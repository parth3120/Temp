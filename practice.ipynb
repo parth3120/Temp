{
  "nbformat": 4,
  "nbformat_minor": 0,
  "metadata": {
    "colab": {
      "provenance": [],
      "authorship_tag": "ABX9TyMxxpJesCDqf2raHuH0Z4qC",
      "include_colab_link": true
    },
    "kernelspec": {
      "name": "python3",
      "display_name": "Python 3"
    },
    "language_info": {
      "name": "python"
    }
  },
  "cells": [
    {
      "cell_type": "markdown",
      "metadata": {
        "id": "view-in-github",
        "colab_type": "text"
      },
      "source": [
        "<a href=\"https://colab.research.google.com/github/parth3120/Temp/blob/main/practice.ipynb\" target=\"_parent\"><img src=\"https://colab.research.google.com/assets/colab-badge.svg\" alt=\"Open In Colab\"/></a>"
      ]
    },
    {
      "cell_type": "code",
      "execution_count": null,
      "metadata": {
        "colab": {
          "base_uri": "https://localhost:8080/"
        },
        "id": "fO1QPax8JyVr",
        "outputId": "99508985-7921-44f0-fe62-b6a04e92ede2"
      },
      "outputs": [
        {
          "output_type": "stream",
          "name": "stdout",
          "text": [
            "Transmited Data :  [[ 1  1 -1 -1 -1 -1  1  1]\n",
            " [ 1  1 -1 -1 -1 -1  1  1]\n",
            " [-1 -1  1  1  1  1 -1 -1]] \n",
            "\n",
            "Recived Data :  [[ 1.10530039  1.14952368 -0.95328679 -1.17158721 -0.52932454 -1.73563838\n",
            "   0.56562033  0.52542924]\n",
            " [-0.1114782   1.40688876 -1.10648162 -0.48431913 -0.0263857  -0.6966605\n",
            "   0.11828936  1.76133988]\n",
            " [-0.31787844 -1.2873924   0.29291557  0.61949452  1.27189985  0.53641635\n",
            "  -1.60830763 -1.23753081]]\n",
            "User :  0\n",
            "Decoded Bit :  [-1, 1, -1]\n",
            "Noise Recived :  4.163336342344337e-17\n",
            "Signal :  0.025134050648410327\n",
            "SNR :  -10.76168067541929\n",
            "====================================================================================================\n",
            "User :  1\n",
            "Decoded Bit :  [1, -1, 1]\n",
            "Noise Recived :  -0.07971472524605232\n",
            "Signal :  0.06628158436918273\n",
            "SNR :  -7.714572230414608\n",
            "====================================================================================================\n",
            "User :  2\n",
            "Decoded Bit :  [1, 1, 1]\n",
            "Noise Recived :  -0.0797147252460523\n",
            "Signal :  0.029650232984440247\n",
            "SNR :  -13.424718946422482\n",
            "====================================================================================================\n",
            "User :  3\n",
            "Decoded Bit :  [1, 1, 1]\n",
            "Noise Recived :  -0.07971472524605228\n",
            "Signal :  0.04477095722437389\n",
            "SNR :  -8.787736411965742\n",
            "====================================================================================================\n",
            "User :  4\n",
            "Decoded Bit :  [1, -1, 1]\n",
            "Noise Recived :  -0.07971472524605228\n",
            "Signal :  0.020453529077888496\n",
            "SNR :  -13.277310061574495\n",
            "====================================================================================================\n",
            "User :  5\n",
            "Decoded Bit :  [-1, -1, 1]\n",
            "Noise Recived :  -0.07971472524605229\n",
            "Signal :  0.01349563097363614\n",
            "SNR :  -15.093728702845306\n",
            "====================================================================================================\n",
            "User :  6\n",
            "Decoded Bit :  [1, 1, -1]\n",
            "Noise Recived :  -0.07971472524605228\n",
            "Signal :  0.7364808388269259\n",
            "SNR :  4.516232212007817\n",
            "====================================================================================================\n",
            "User :  7\n",
            "Decoded Bit :  [-1, -1, 1]\n",
            "Noise Recived :  -0.07971472524605226\n",
            "Signal :  0.06446952402227293\n",
            "SNR :  -12.442953461053193\n",
            "====================================================================================================\n"
          ]
        }
      ],
      "source": [
        "import numpy as np\n",
        "def wals_matrix(m):\n",
        "  if(m==1):\n",
        "        return np.array([[1,1],[1,-1]])\n",
        "  else :\n",
        "    wash=wals_matrix(m-1)\n",
        "    return np.vstack((np.hstack((wash,wash)),np.hstack((wash,-wash))))\n",
        "users=8\n",
        "indented_user=6\n",
        "message_bit=[1,1,-1]\n",
        "def simulation():\n",
        "  walsh_matrix = wals_matrix(int(np.log2(users)))\n",
        "  transmitted_data=[]\n",
        "\n",
        "  for bit in message_bit:\n",
        "    transmitted_data.append(bit*walsh_matrix[indented_user])\n",
        "  transmitted_data=np.array(transmitted_data)\n",
        "\n",
        "  noise=np.random.normal(0,0.5,transmitted_data.shape)\n",
        "\n",
        "  recived_data=transmitted_data+noise\n",
        "\n",
        "  print(\"Transmited Data : \" , transmitted_data,\"\\n\")\n",
        "  print(\"Recived Data : \" , recived_data)\n",
        "\n",
        "\n",
        "  for user in range(users):\n",
        "    matrix=walsh_matrix[user]\n",
        "\n",
        "    decoded_bit=[]\n",
        "    noise_recived=[]\n",
        "    signal=[]\n",
        "    snr=[]\n",
        "\n",
        "    for data in recived_data:\n",
        "      corr=np.dot(data,matrix)/len(matrix)\n",
        "      signal_recived=corr**2\n",
        "\n",
        "      bit = 1 if corr>0 else -1\n",
        "\n",
        "      snr_db = float('inf') if signal_recived == 0 else 10 * np.log10(signal_recived / (0.5**2))\n",
        "\n",
        "      decoded_bit.append(bit)\n",
        "      noise_recived.append(data - matrix*corr)\n",
        "      signal.append(signal_recived)\n",
        "      snr.append(snr_db)\n",
        "    print(\"User : \",user)\n",
        "    print(\"Decoded Bit : \" , decoded_bit)\n",
        "    print(\"Noise Recived : \" , np.mean(noise_recived))\n",
        "    print(\"Signal : \" , np.mean(signal))\n",
        "    print(\"SNR : \" , np.mean(snr))\n",
        "    print(\"=\"*100)\n",
        "\n",
        "\n",
        "simulation()\n",
        "\n",
        "\n",
        "\n",
        "\n",
        "\n"
      ]
    },
    {
      "cell_type": "code",
      "source": [
        "import numpy as np\n",
        "import scipy.special as sp\n",
        "import matplotlib.pyplot as plt\n",
        "\n",
        "N=int(1e6)\n",
        "\n",
        "\n",
        "ip=np.random.rand(N)>0.5\n",
        "s_ip=2*ip-1\n",
        "\n",
        "Eb_No_Db=np.arange(-5,12)\n",
        "N_Err_Awgn=np.zeros_like(Eb_No_Db,dtype=int)\n",
        "N_Err_Rayleigh=np.zeros_like(Eb_No_Db,dtype=int)\n",
        "noise=np.sqrt(1/2)*(np.random.randn(N)+1j*np.random.randn(N))\n",
        "\n",
        "\n",
        "for idx ,eb in enumerate(Eb_No_Db):\n",
        "  scale=10**(-eb/20)\n",
        "\n",
        "  y_Awgn=s_ip+noise*scale\n",
        "  h=np.sqrt(1/2)*(np.random.randn(N)+1j*np.random.randn(N))\n",
        "  y_Rayleigh=(h*s_ip+scale*noise)/h\n",
        "\n",
        "  y_Awgn_hat=np.real(y_Awgn)>.05\n",
        "  y_Rayleigh_hat=np.real(y_Rayleigh)>0.5\n",
        "\n",
        "  N_Err_Awgn[idx]=np.sum(y_Awgn_hat!=ip)\n",
        "  N_Err_Rayleigh[idx]=np.sum(y_Rayleigh_hat!=ip)\n",
        "\n",
        "\n",
        "Ber_Awgn=N_Err_Awgn/N\n",
        "Ber_Rayleigh=N_Err_Rayleigh/N\n",
        "\n",
        "theroy_Awgn=0.5*sp.erfc(np.sqrt(10**(Eb_No_Db/10)))\n",
        "theroy_Rayleigh=0.5 * (1 - np.sqrt(10**(Eb_No_Db/10) / (1 + 10**(Eb_No_Db/10))))\n",
        "\n",
        "plt.figure()\n",
        "plt.semilogy(Eb_No_Db,Ber_Awgn,label='AWGN')\n",
        "plt.semilogy(Eb_No_Db,Ber_Rayleigh,label='Rayleigh')\n",
        "plt.semilogy(Eb_No_Db,theroy_Awgn,label='AWGN Theory')\n",
        "plt.semilogy(Eb_No_Db,theroy_Rayleigh,label='Rayleigh Theory')\n",
        "plt.xlabel('Eb/No (dB)')\n",
        "plt.ylabel('BER')\n",
        "plt.legend()\n",
        "plt.show()\n"
      ],
      "metadata": {
        "colab": {
          "base_uri": "https://localhost:8080/",
          "height": 449
        },
        "id": "mOz_Nzk_LQVr",
        "outputId": "bae859f2-6791-45eb-cf1c-b8a106fc5330"
      },
      "execution_count": null,
      "outputs": [
        {
          "output_type": "display_data",
          "data": {
            "text/plain": [
              "<Figure size 640x480 with 1 Axes>"
            ],
            "image/png": "[encoded data removed]"
          },
          "metadata": {}
        }
      ]
    },
    {
      "cell_type": "code",
      "source": [
        "import socket\n",
        "\n",
        "# Server Code\n",
        "def start_server(host='0.0.0.0', port=5001, buffer_size=4096, filename='received_file.txt'):\n",
        "    server_socket = socket.socket(socket.AF_INET, socket.SOCK_STREAM)\n",
        "    server_socket.bind((host, port))\n",
        "    server_socket.listen(5)\n",
        "    print(f\"[*] Listening on {host}:{port}\")\n",
        "\n",
        "    conn, addr = server_socket.accept()\n",
        "    print(f\"[+] Connection from {addr}\")\n",
        "\n",
        "    with open(filename, 'wb') as file:\n",
        "        while True:\n",
        "            data = conn.recv(buffer_size)\n",
        "            if not data:\n",
        "                break\n",
        "            file.write(data)\n",
        "\n",
        "    print(f\"[+] File received and saved as {filename}\")\n",
        "    conn.close()\n",
        "    server_socket.close()\n",
        "\n",
        "if __name__ == \"__main__\":  # use comeented in exam as only data is to transfer not file name\n",
        "    start_server()\n",
        "\n",
        "\n"
      ],
      "metadata": {
        "id": "lnq8dUYUUMtk"
      },
      "execution_count": null,
      "outputs": []
    },
    {
      "cell_type": "code",
      "source": [
        "import socket\n",
        "\n",
        "# Client Code\n",
        "def send_file(server_host, server_port, file_path, buffer_size=4096):\n",
        "    client_socket = socket.socket(socket.AF_INET, socket.SOCK_STREAM)\n",
        "    client_socket.connect((server_host, server_port))\n",
        "    print(f\"[+] Connected to {server_host}:{server_port}\")\n",
        "\n",
        "    with open(file_path, 'rb') as file:\n",
        "        while (chunk := file.read(buffer_size)):\n",
        "            client_socket.sendall(chunk)\n",
        "\n",
        "    print(\"[+] File sent successfully\")\n",
        "    client_socket.close()\n",
        "\n",
        "if __name__ == \"__main__\":\n",
        "    send_file(\"127.0.0.1\", 5001, \"main.txt\")"
      ],
      "metadata": {
        "id": "7NIWyE4IU-Gn"
      },
      "execution_count": null,
      "outputs": []
    }
  ]
}